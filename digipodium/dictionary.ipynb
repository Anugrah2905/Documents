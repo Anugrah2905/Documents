{
 "cells": [
  {
   "attachments": {},
   "cell_type": "markdown",
   "metadata": {},
   "source": [
    "### dictionary\n",
    "   - ordered\n",
    "   - mutable \n",
    "   - heterogenous\n",
    "   - key value Pair\n",
    "         - keys are immutable and unique\n",
    "         - value can be mutable or immutable and can be duplicate and have any type\n",
    "   - unindexed\n",
    "   - represented by '{ }'\n",
    "   - 'dict()' that can take key value pair as argument"
   ]
  },
  {
   "cell_type": "code",
   "execution_count": 1,
   "metadata": {},
   "outputs": [],
   "source": [
    "fruits = {\n",
    "    \"apple\": 2,\n",
    "    \"banana\": 3,\n",
    "    \"orange\": 5,\n",
    "}"
   ]
  },
  {
   "cell_type": "code",
   "execution_count": 2,
   "metadata": {},
   "outputs": [],
   "source": [
    "grocery = {\n",
    "    'fruits': ['apple','banana','orange','grapes'],\n",
    "    'vegetables': ['carrot','lettuce','onion'],\n",
    "    'dairy': ['milk','cheese','yogurt'],\n",
    "    'meat':None\n",
    "}"
   ]
  },
  {
   "cell_type": "code",
   "execution_count": 30,
   "metadata": {},
   "outputs": [],
   "source": [
    "reports = {\n",
    "    'Rajesh':{\n",
    "        'English': 90,\n",
    "        'Maths': 80,\n",
    "        'Science': 70,\n",
    "    },\n",
    "    'Suresh' :{\n",
    "        'English': 56,\n",
    "        'Maths': 57,\n",
    "        'Science': 70,\n",
    "\n",
    "    },\n",
    "}"
   ]
  },
  {
   "cell_type": "code",
   "execution_count": 5,
   "metadata": {},
   "outputs": [
    {
     "name": "stdout",
     "output_type": "stream",
     "text": [
      "{'apple': 2, 'banana': 3, 'orange': 5}\n",
      "{'fruits': ['apple', 'banana', 'orange', 'grapes'], 'vegetables': ['carrot', 'lettuce', 'onion'], 'dairy': ['milk', 'cheese', 'yogurt'], 'meat': None}\n",
      "{'Rajesh': {'English': 90, 'Maths': 80, 'Science': 70}}\n"
     ]
    }
   ],
   "source": [
    "print(fruits)\n",
    "print(grocery)\n",
    "print(reports)"
   ]
  },
  {
   "cell_type": "code",
   "execution_count": 7,
   "metadata": {},
   "outputs": [],
   "source": [
    "from pprint import pp "
   ]
  },
  {
   "cell_type": "code",
   "execution_count": 8,
   "metadata": {},
   "outputs": [
    {
     "name": "stdout",
     "output_type": "stream",
     "text": [
      "{'apple': 2, 'banana': 3, 'orange': 5}\n",
      "{'fruits': ['apple', 'banana', 'orange', 'grapes'],\n",
      " 'vegetables': ['carrot', 'lettuce', 'onion'],\n",
      " 'dairy': ['milk', 'cheese', 'yogurt'],\n",
      " 'meat': None}\n",
      "{'Rajesh': {'English': 90, 'Maths': 80, 'Science': 70}}\n"
     ]
    }
   ],
   "source": [
    "pp(fruits)\n",
    "pp(grocery)\n",
    "pp(reports)"
   ]
  },
  {
   "cell_type": "code",
   "execution_count": 9,
   "metadata": {},
   "outputs": [
    {
     "data": {
      "text/plain": [
       "2"
      ]
     },
     "execution_count": 9,
     "metadata": {},
     "output_type": "execute_result"
    }
   ],
   "source": [
    "fruits['apple'] #fetching/retrieving data"
   ]
  },
  {
   "cell_type": "code",
   "execution_count": 10,
   "metadata": {},
   "outputs": [
    {
     "name": "stdout",
     "output_type": "stream",
     "text": [
      "{'apple': 10, 'banana': 3, 'orange': 5}\n"
     ]
    }
   ],
   "source": [
    "fruits['apple'] = 10 #update value in dictionary\n",
    "pp(fruits)"
   ]
  },
  {
   "cell_type": "code",
   "execution_count": 11,
   "metadata": {},
   "outputs": [
    {
     "name": "stdout",
     "output_type": "stream",
     "text": [
      "{'apple': 10, 'banana': 3, 'orange': 5, 'mango': 25}\n"
     ]
    }
   ],
   "source": [
    "fruits['mango'] = 25 #adding values\n",
    "pp(fruits)"
   ]
  },
  {
   "cell_type": "code",
   "execution_count": 13,
   "metadata": {},
   "outputs": [
    {
     "name": "stdout",
     "output_type": "stream",
     "text": [
      "{'fruits': ['apple', 'banana', 'orange', 'grapes'],\n",
      " 'vegetables': ['carrot', 'lettuce', 'onion'],\n",
      " 'dairy': ['milk', 'cheese', 'yogurt'],\n",
      " 'meat': None,\n",
      " 'spices': ['cumin', 'coriander', 'tumeric']}\n"
     ]
    }
   ],
   "source": [
    "grocery['spices'] = ['cumin','coriander','tumeric']\n",
    "pp(grocery)"
   ]
  },
  {
   "cell_type": "code",
   "execution_count": 17,
   "metadata": {},
   "outputs": [
    {
     "name": "stdout",
     "output_type": "stream",
     "text": [
      "{'fruits': ['mango'],\n",
      " 'vegetables': ['carrot', 'lettuce', 'onion'],\n",
      " 'dairy': ['milk', 'cheese', 'yogurt'],\n",
      " 'meat': None,\n",
      " 'spices': ['cumin', 'coriander', 'tumeric']}\n"
     ]
    }
   ],
   "source": [
    "grocery['fruits'].remove('mango')#add new elements\n",
    "pp(grocery)"
   ]
  },
  {
   "cell_type": "code",
   "execution_count": 16,
   "metadata": {},
   "outputs": [
    {
     "name": "stdout",
     "output_type": "stream",
     "text": [
      "{'fruits': ['mango', 'mango'],\n",
      " 'vegetables': ['carrot', 'lettuce', 'onion'],\n",
      " 'dairy': ['milk', 'cheese', 'yogurt'],\n",
      " 'meat': None,\n",
      " 'spices': ['cumin', 'coriander', 'tumeric']}\n"
     ]
    }
   ],
   "source": [
    "pp(grocery)"
   ]
  },
  {
   "cell_type": "code",
   "execution_count": 19,
   "metadata": {},
   "outputs": [
    {
     "name": "stdout",
     "output_type": "stream",
     "text": [
      "{'Rajesh': {'English': 90, 'Maths': 80, 'Science': 70, 'evs': 99}}\n"
     ]
    }
   ],
   "source": [
    "reports['Rajesh']['evs'] = 99\n",
    "pp(reports)"
   ]
  },
  {
   "cell_type": "code",
   "execution_count": 20,
   "metadata": {},
   "outputs": [
    {
     "data": {
      "text/plain": [
       "3"
      ]
     },
     "execution_count": 20,
     "metadata": {},
     "output_type": "execute_result"
    }
   ],
   "source": [
    "fruits.pop('banana') #gives value of removed key"
   ]
  },
  {
   "cell_type": "code",
   "execution_count": 21,
   "metadata": {},
   "outputs": [
    {
     "data": {
      "text/plain": [
       "{'English': 90, 'Maths': 80, 'Science': 70, 'evs': 99}"
      ]
     },
     "execution_count": 21,
     "metadata": {},
     "output_type": "execute_result"
    }
   ],
   "source": [
    "reports.pop('Rajesh')"
   ]
  },
  {
   "cell_type": "code",
   "execution_count": 25,
   "metadata": {},
   "outputs": [
    {
     "ename": "ValueError",
     "evalue": "list.remove(x): x not in list",
     "output_type": "error",
     "traceback": [
      "\u001b[1;31m---------------------------------------------------------------------------\u001b[0m",
      "\u001b[1;31mValueError\u001b[0m                                Traceback (most recent call last)",
      "Cell \u001b[1;32mIn[25], line 1\u001b[0m\n\u001b[1;32m----> 1\u001b[0m grocery[\u001b[39m'\u001b[39;49m\u001b[39mvegetables\u001b[39;49m\u001b[39m'\u001b[39;49m]\u001b[39m.\u001b[39;49mremove(\u001b[39m'\u001b[39;49m\u001b[39monion\u001b[39;49m\u001b[39m'\u001b[39;49m)\n\u001b[0;32m      2\u001b[0m pp(grocery)\n",
      "\u001b[1;31mValueError\u001b[0m: list.remove(x): x not in list"
     ]
    }
   ],
   "source": [
    "grocery['vegetables'].remove('onion')\n"
   ]
  },
  {
   "cell_type": "code",
   "execution_count": 27,
   "metadata": {},
   "outputs": [
    {
     "data": {
      "text/plain": [
       "dict_values([10, 5, 25])"
      ]
     },
     "execution_count": 27,
     "metadata": {},
     "output_type": "execute_result"
    }
   ],
   "source": [
    "fruits.values()"
   ]
  },
  {
   "cell_type": "code",
   "execution_count": 28,
   "metadata": {},
   "outputs": [
    {
     "data": {
      "text/plain": [
       "dict_items([('apple', 10), ('orange', 5), ('mango', 25)])"
      ]
     },
     "execution_count": 28,
     "metadata": {},
     "output_type": "execute_result"
    }
   ],
   "source": [
    "fruits.items()"
   ]
  },
  {
   "attachments": {},
   "cell_type": "markdown",
   "metadata": {},
   "source": [
    "traversal"
   ]
  },
  {
   "cell_type": "code",
   "execution_count": 29,
   "metadata": {},
   "outputs": [
    {
     "name": "stdout",
     "output_type": "stream",
     "text": [
      "apple 10\n",
      "orange 5\n",
      "mango 25\n"
     ]
    }
   ],
   "source": [
    "for k,v in fruits.items():\n",
    "    print(k,v)"
   ]
  },
  {
   "cell_type": "code",
   "execution_count": 31,
   "metadata": {},
   "outputs": [
    {
     "data": {
      "text/plain": [
       "56"
      ]
     },
     "execution_count": 31,
     "metadata": {},
     "output_type": "execute_result"
    }
   ],
   "source": [
    "reports['Suresh']['English']"
   ]
  },
  {
   "cell_type": "code",
   "execution_count": 32,
   "metadata": {},
   "outputs": [
    {
     "data": {
      "text/plain": [
       "{'English': 56, 'Maths': 57, 'Science': 70}"
      ]
     },
     "execution_count": 32,
     "metadata": {},
     "output_type": "execute_result"
    }
   ],
   "source": [
    "reports.get('Suresh')"
   ]
  },
  {
   "cell_type": "code",
   "execution_count": 33,
   "metadata": {},
   "outputs": [
    {
     "data": {
      "text/plain": [
       "'ye student kabhi aaya hi nahi'"
      ]
     },
     "execution_count": 33,
     "metadata": {},
     "output_type": "execute_result"
    }
   ],
   "source": [
    "reports.get('ramesh','ye student kabhi aaya hi nahi')"
   ]
  },
  {
   "cell_type": "code",
   "execution_count": 34,
   "metadata": {},
   "outputs": [
    {
     "data": {
      "text/plain": [
       "{'English': 56, 'Maths': 57, 'Science': 70}"
      ]
     },
     "execution_count": 34,
     "metadata": {},
     "output_type": "execute_result"
    }
   ],
   "source": [
    "reports.get('Suresh','ye student kabhi aaya hi nahi')"
   ]
  },
  {
   "cell_type": "code",
   "execution_count": 36,
   "metadata": {},
   "outputs": [
    {
     "name": "stdout",
     "output_type": "stream",
     "text": [
      "{'Rajesh': {'English': 90, 'Maths': 80, 'Science': 70},\n",
      " 'Suresh': {'English': 56, 'Maths': 57, 'Science': 70},\n",
      " 'sunita': {'English': 90, 'Maths': 91, 'Science': 95}}\n"
     ]
    }
   ],
   "source": [
    "reports['sunita'] = {\n",
    "    'English' : 90,\n",
    "    'Maths' : 91,\n",
    "    'Science' : 95,\n",
    " }\n",
    "pp(reports)"
   ]
  },
  {
   "cell_type": "code",
   "execution_count": 38,
   "metadata": {},
   "outputs": [
    {
     "name": "stdout",
     "output_type": "stream",
     "text": [
      "Rajesh\n",
      "90 in English\n",
      "80 in Maths\n",
      "70 in Science\n",
      "------------------------------\n",
      "Suresh\n",
      "56 in English\n",
      "57 in Maths\n",
      "70 in Science\n",
      "------------------------------\n",
      "sunita\n",
      "90 in English\n",
      "91 in Maths\n",
      "95 in Science\n",
      "------------------------------\n"
     ]
    }
   ],
   "source": [
    "for student, details in reports.items() :\n",
    "    print(student)\n",
    "    for subject,marks in details.items():\n",
    "        print(f'{marks} in {subject}')\n",
    "    print('---'* 10)"
   ]
  },
  {
   "cell_type": "code",
   "execution_count": 47,
   "metadata": {},
   "outputs": [
    {
     "ename": "SyntaxError",
     "evalue": "invalid syntax (1632245127.py, line 21)",
     "output_type": "error",
     "traceback": [
      "\u001b[1;36m  Cell \u001b[1;32mIn[47], line 21\u001b[1;36m\u001b[0m\n\u001b[1;33m    'project duration': 9\u001b[0m\n\u001b[1;37m                      ^\u001b[0m\n\u001b[1;31mSyntaxError\u001b[0m\u001b[1;31m:\u001b[0m invalid syntax\n"
     ]
    }
   ],
   "source": [
    "employees = {\n",
    "    'Raj':{\n",
    "        'Department': 'IT hub',\n",
    "        'Salary': 75000,\n",
    "        'Skills': ['coding','management'],\n",
    "        'Projects': {\n",
    "            'project1' :{\n",
    "                'project_name': 'HRMS',\n",
    "                'project duration': 6,\n",
    "                'project technology': ['excel','power bi','powerpoint']\n",
    "            },\n",
    "        }\n",
    "    },\n",
    "    'Mohan':{\n",
    "        'Department': 'Government Sector',\n",
    "        'Salary': 85000,\n",
    "        'Skills': ['Cyber Security'],\n",
    "        'Projects':{\n",
    "            'project2' :{\n",
    "            'project_name': 'HQ'\n",
    "            'project duration': 9\n",
    "            'project technology':['Excel','MS office']\n",
    "            },\n",
    "\n",
    "        }\n",
    "    },\n",
    "    'Raman':{\n",
    "        'Department': 'Government Sector',\n",
    "        'Salary': 85000,\n",
    "        'Skills': ['Cyber Security'],\n",
    "        'Projects':{\n",
    "            'project2' :{\n",
    "            'project_name': 'HQ'\n",
    "            'project duration': 9\n",
    "            'project technology':['Excel','MS office']\n",
    "            },\n",
    "\n",
    "        }\n",
    "    },\n",
    "}\n",
    "pp(employees)"
   ]
  },
  {
   "cell_type": "code",
   "execution_count": null,
   "metadata": {},
   "outputs": [],
   "source": []
  }
 ],
 "metadata": {
  "kernelspec": {
   "display_name": "base",
   "language": "python",
   "name": "python3"
  },
  "language_info": {
   "codemirror_mode": {
    "name": "ipython",
    "version": 3
   },
   "file_extension": ".py",
   "mimetype": "text/x-python",
   "name": "python",
   "nbconvert_exporter": "python",
   "pygments_lexer": "ipython3",
   "version": "3.10.10"
  },
  "orig_nbformat": 4
 },
 "nbformat": 4,
 "nbformat_minor": 2
}
