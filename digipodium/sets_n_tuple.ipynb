{
 "cells": [
  {
   "cell_type": "code",
   "execution_count": 1,
   "metadata": {},
   "outputs": [
    {
     "name": "stdout",
     "output_type": "stream",
     "text": [
      "(1, 2, 3)\n",
      "<class 'tuple'>\n"
     ]
    }
   ],
   "source": [
    "x = (1,2,3) #tuple packing\n",
    "print(x)\n",
    "print(type(x))"
   ]
  },
  {
   "cell_type": "code",
   "execution_count": 3,
   "metadata": {},
   "outputs": [
    {
     "name": "stdout",
     "output_type": "stream",
     "text": [
      "(13,)\n",
      "<class 'tuple'>\n"
     ]
    }
   ],
   "source": [
    "#single element tuple\n",
    "b = (13,)\n",
    "print(b)\n",
    "print(type(b))"
   ]
  },
  {
   "cell_type": "code",
   "execution_count": 5,
   "metadata": {},
   "outputs": [],
   "source": [
    "a =12, 13, 14\n"
   ]
  },
  {
   "cell_type": "code",
   "execution_count": 6,
   "metadata": {},
   "outputs": [
    {
     "name": "stdout",
     "output_type": "stream",
     "text": [
      "12 13 14\n"
     ]
    }
   ],
   "source": [
    "#tuple unpacking\n",
    "x1, x2, x3 = a # a has 3 elements\n",
    "print(x1,x2,x3)\n"
   ]
  },
  {
   "cell_type": "code",
   "execution_count": 7,
   "metadata": {},
   "outputs": [
    {
     "name": "stdout",
     "output_type": "stream",
     "text": [
      "1 3 [5, 6, 7, 12, 14, 16, 17]\n"
     ]
    }
   ],
   "source": [
    "#tuple unpacking\n",
    "a =(1,3,5,6,7,12,14,16,17)\n",
    "a1, a2, *a3 = a # a3 will get the remaining elements\n",
    "print(a1,a2,a3)"
   ]
  },
  {
   "cell_type": "code",
   "execution_count": 9,
   "metadata": {},
   "outputs": [
    {
     "data": {
      "text/plain": [
       "(1, 3, 5, 6)"
      ]
     },
     "execution_count": 9,
     "metadata": {},
     "output_type": "execute_result"
    }
   ],
   "source": [
    "a[:4] #slicing"
   ]
  },
  {
   "cell_type": "code",
   "execution_count": 10,
   "metadata": {},
   "outputs": [
    {
     "name": "stdout",
     "output_type": "stream",
     "text": [
      "1\n",
      "3\n",
      "5\n",
      "6\n",
      "7\n",
      "12\n",
      "14\n",
      "16\n",
      "17\n"
     ]
    }
   ],
   "source": [
    "for i in a:\n",
    "    print(i)"
   ]
  },
  {
   "cell_type": "code",
   "execution_count": 13,
   "metadata": {},
   "outputs": [
    {
     "name": "stdout",
     "output_type": "stream",
     "text": [
      "3\n",
      "3\n",
      "3\n",
      "6\n"
     ]
    }
   ],
   "source": [
    "x = (1,2,3,1,2,3,1,2,3)\n",
    "print(x.count(1))\n",
    "print(x.count(2))\n",
    "print(x.count(3))\n",
    "print(x.index(1,5))"
   ]
  },
  {
   "cell_type": "code",
   "execution_count": 14,
   "metadata": {},
   "outputs": [
    {
     "name": "stdout",
     "output_type": "stream",
     "text": [
      "(1, 2, 3)\n",
      "[1, 2, 3]\n"
     ]
    }
   ],
   "source": [
    "a = [1,2,3]\n",
    "at = tuple(a)\n",
    "al = list(at)\n",
    "print(at)\n",
    "print(al)"
   ]
  },
  {
   "attachments": {},
   "cell_type": "markdown",
   "metadata": {},
   "source": [
    "SET\n"
   ]
  },
  {
   "cell_type": "markdown",
   "metadata": {},
   "source": []
  },
  {
   "cell_type": "code",
   "execution_count": 16,
   "metadata": {},
   "outputs": [
    {
     "name": "stdout",
     "output_type": "stream",
     "text": [
      "{1, 2, 3}\n",
      "<class 'set'>\n"
     ]
    }
   ],
   "source": [
    "s = {1,2,3,1,2,3,1,2,3}\n",
    "print(s)\n",
    "print(type(s))"
   ]
  },
  {
   "attachments": {},
   "cell_type": "markdown",
   "metadata": {},
   "source": []
  },
  {
   "cell_type": "code",
   "execution_count": 17,
   "metadata": {},
   "outputs": [
    {
     "name": "stdout",
     "output_type": "stream",
     "text": [
      "set()\n",
      "<class 'set'>\n"
     ]
    }
   ],
   "source": [
    "s1 = set()# empty set\n",
    "print(s1)\n",
    "print(type(s1))"
   ]
  },
  {
   "cell_type": "code",
   "execution_count": 20,
   "metadata": {},
   "outputs": [
    {
     "name": "stdout",
     "output_type": "stream",
     "text": [
      "{'all', 3, 4, 'hello'}\n"
     ]
    }
   ],
   "source": [
    "s1.add(3)\n",
    "s1.add(4)\n",
    "s1.add('hello')\n",
    "s1.add('all')\n",
    "s1.add(3)\n",
    "print(s1)"
   ]
  },
  {
   "cell_type": "code",
   "execution_count": 22,
   "metadata": {},
   "outputs": [],
   "source": [
    "s1.discard(3)#remove 3 from set 1"
   ]
  },
  {
   "cell_type": "code",
   "execution_count": 23,
   "metadata": {},
   "outputs": [
    {
     "name": "stdout",
     "output_type": "stream",
     "text": [
      "all\n",
      "4\n",
      "hello\n"
     ]
    }
   ],
   "source": [
    "for i in s1:\n",
    "    print(i)"
   ]
  },
  {
   "cell_type": "code",
   "execution_count": 24,
   "metadata": {},
   "outputs": [
    {
     "name": "stdout",
     "output_type": "stream",
     "text": [
      "['a', 'n', 'u', 'g', 'r', 'a', 'h', ' ', 'p', 'e', 't', 'e', 'r', 's']\n"
     ]
    }
   ],
   "source": [
    "name = list('anugrah peters')\n",
    "print(name)"
   ]
  },
  {
   "cell_type": "code",
   "execution_count": 29,
   "metadata": {},
   "outputs": [
    {
     "name": "stdout",
     "output_type": "stream",
     "text": [
      "{'watermelon', 'banana', 'orange', 'mango', 'grapes', 'papaya', 'apple'}\n",
      "{'mango', 'apple'}\n",
      "{'orange', 'banana'}\n",
      "{'watermelon', 'grapes', 'papaya'}\n",
      "{'watermelon', 'grapes', 'papaya'}\n"
     ]
    }
   ],
   "source": [
    "# set operations\n",
    "group1 = {'apple','banana','orange','mango'}\n",
    "group2 = {'apple','grapes','papaya','mango','watermelon'}\n",
    "print(group1 | group2)\n",
    "print(group1 & group2)\n",
    "print(group1 - group2) #elements in group 1 but not in group 2\n",
    "print(group2 - group1) #elements in group 2 but not in group 1\n",
    "print(group2.difference(group1))"
   ]
  },
  {
   "cell_type": "code",
   "execution_count": 31,
   "metadata": {},
   "outputs": [
    {
     "name": "stdout",
     "output_type": "stream",
     "text": [
      "{'watermelon', 'banana', 'grapes', 'papaya', 'orange'}\n",
      "{'watermelon', 'banana', 'grapes', 'papaya', 'orange'}\n"
     ]
    }
   ],
   "source": [
    "#symmetric difference\n",
    "print(group1 ^ group2)# elements in group 1 or group 2 but not in both\n",
    "print(group1.symmetric_difference(group2))"
   ]
  },
  {
   "cell_type": "code",
   "execution_count": 42,
   "metadata": {},
   "outputs": [],
   "source": [
    "reports = [\n",
    "    ['rohan:',[\n",
    "        ['maths',90],\n",
    "        ['physics',91],\n",
    "        ['chemistry',97]\n",
    "    ]],\n",
    "    \n",
    "    ['mohan:',[\n",
    "        ['maths',23],\n",
    "        ['physics',1],\n",
    "        ['chemistry',97]\n",
    "    ]],\n",
    "    ['rakesh',[\n",
    "        ['maths',90],\n",
    "        ['physics',91],\n",
    "        ['chemistry',97]\n",
    "    ]],\n",
    "    ['kamlesh',[\n",
    "        ['maths',90],\n",
    "        ['physics',91],\n",
    "        ['chemistry',97]\n",
    "    ]],\n",
    "    ['rajesh',[\n",
    "        ['maths',90],\n",
    "        ['physics',91],\n",
    "        ['chemistry',97]\n",
    "    ]],\n",
    "    ['suresh' ,[\n",
    "        ['maths',90],\n",
    "        ['physics',91],\n",
    "        ['chemistry',97]\n",
    "    ]],\n",
    "    ['sohan',[\n",
    "        ['maths',90],\n",
    "        ['physics',91],\n",
    "        ['chemistry',97]\n",
    "    ]],\n",
    "]\n"
   ]
  },
  {
   "cell_type": "code",
   "execution_count": 43,
   "metadata": {},
   "outputs": [
    {
     "name": "stdout",
     "output_type": "stream",
     "text": [
      "rohan\n",
      "maths 90\n",
      " \n",
      "physics 91\n",
      " \n",
      "chemistry 97\n",
      " \n",
      "mohan\n",
      "maths 23\n",
      " \n",
      "physics 1\n",
      " \n",
      "chemistry 97\n",
      " \n",
      "rakesh\n",
      "maths 90\n",
      " \n",
      "physics 91\n",
      " \n",
      "chemistry 97\n",
      " \n",
      "kamlesh\n",
      "maths 90\n",
      " \n",
      "physics 91\n",
      " \n",
      "chemistry 97\n",
      " \n",
      "rajesh\n",
      "maths 90\n",
      " \n",
      "physics 91\n",
      " \n",
      "chemistry 97\n",
      " \n",
      "suresh\n",
      "maths 90\n",
      " \n",
      "physics 91\n",
      " \n",
      "chemistry 97\n",
      " \n",
      "sohan\n",
      "maths 90\n",
      " \n",
      "physics 91\n",
      " \n",
      "chemistry 97\n",
      " \n"
     ]
    }
   ],
   "source": [
    "for student in reports:\n",
    "    for detail in student:\n",
    "        if isinstance(detail,str):\n",
    "            print(detail)\n",
    "        if isinstance(detail,list):\n",
    "            for subject in detail:\n",
    "                print(subject[0],subject[1])\n",
    "                print(' ')"
   ]
  },
  {
   "cell_type": "code",
   "execution_count": null,
   "metadata": {},
   "outputs": [],
   "source": []
  }
 ],
 "metadata": {
  "kernelspec": {
   "display_name": "base",
   "language": "python",
   "name": "python3"
  },
  "language_info": {
   "codemirror_mode": {
    "name": "ipython",
    "version": 3
   },
   "file_extension": ".py",
   "mimetype": "text/x-python",
   "name": "python",
   "nbconvert_exporter": "python",
   "pygments_lexer": "ipython3",
   "version": "3.10.10"
  },
  "orig_nbformat": 4
 },
 "nbformat": 4,
 "nbformat_minor": 2
}
