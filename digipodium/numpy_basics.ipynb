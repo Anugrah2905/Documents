{
 "cells": [
  {
   "cell_type": "code",
   "execution_count": 3,
   "metadata": {},
   "outputs": [],
   "source": [
    "import numpy as np"
   ]
  },
  {
   "cell_type": "code",
   "execution_count": 6,
   "metadata": {},
   "outputs": [
    {
     "name": "stdout",
     "output_type": "stream",
     "text": [
      "[2 5 6]\n",
      "(3,)\n",
      "[[1 2 3]\n",
      " [4 5 6]]\n",
      "(2, 3)\n"
     ]
    }
   ],
   "source": [
    "x = np.array([2,5,6])\n",
    "print(x)\n",
    "print(x.shape)\n",
    "b = np.array([\n",
    "    [1,2,3],\n",
    "    [4,5,6]\n",
    "])\n",
    "print(b)\n",
    "print(b.shape)"
   ]
  },
  {
   "cell_type": "code",
   "execution_count": 22,
   "metadata": {},
   "outputs": [
    {
     "name": "stdout",
     "output_type": "stream",
     "text": [
      "[1.  1.2 1.4 1.6 1.8 2.  2.2 2.4 2.6 2.8 3.  3.2 3.4 3.6 3.8 4.  4.2 4.4\n",
      " 4.6 4.8 5.  5.2 5.4 5.6 5.8 6.  6.2 6.4 6.6 6.8 7.  7.2 7.4 7.6 7.8 8.\n",
      " 8.2 8.4 8.6 8.8 9.  9.2 9.4 9.6 9.8]\n",
      "(45,)\n",
      "[ 1.          1.09090909  1.18181818  1.27272727  1.36363636  1.45454545\n",
      "  1.54545455  1.63636364  1.72727273  1.81818182  1.90909091  2.\n",
      "  2.09090909  2.18181818  2.27272727  2.36363636  2.45454545  2.54545455\n",
      "  2.63636364  2.72727273  2.81818182  2.90909091  3.          3.09090909\n",
      "  3.18181818  3.27272727  3.36363636  3.45454545  3.54545455  3.63636364\n",
      "  3.72727273  3.81818182  3.90909091  4.          4.09090909  4.18181818\n",
      "  4.27272727  4.36363636  4.45454545  4.54545455  4.63636364  4.72727273\n",
      "  4.81818182  4.90909091  5.          5.09090909  5.18181818  5.27272727\n",
      "  5.36363636  5.45454545  5.54545455  5.63636364  5.72727273  5.81818182\n",
      "  5.90909091  6.          6.09090909  6.18181818  6.27272727  6.36363636\n",
      "  6.45454545  6.54545455  6.63636364  6.72727273  6.81818182  6.90909091\n",
      "  7.          7.09090909  7.18181818  7.27272727  7.36363636  7.45454545\n",
      "  7.54545455  7.63636364  7.72727273  7.81818182  7.90909091  8.\n",
      "  8.09090909  8.18181818  8.27272727  8.36363636  8.45454545  8.54545455\n",
      "  8.63636364  8.72727273  8.81818182  8.90909091  9.          9.09090909\n",
      "  9.18181818  9.27272727  9.36363636  9.45454545  9.54545455  9.63636364\n",
      "  9.72727273  9.81818182  9.90909091 10.        ]\n"
     ]
    }
   ],
   "source": [
    "c = np.arange(1,10,0.2)\n",
    "print(c)\n",
    "print(c.shape)\n",
    "d = np.linspace(1,10,100)\n",
    "print(d)"
   ]
  },
  {
   "cell_type": "code",
   "execution_count": 18,
   "metadata": {},
   "outputs": [
    {
     "name": "stdout",
     "output_type": "stream",
     "text": [
      "1\n"
     ]
    }
   ],
   "source": [
    "print(c.ndim)"
   ]
  },
  {
   "cell_type": "code",
   "execution_count": 24,
   "metadata": {},
   "outputs": [
    {
     "name": "stdout",
     "output_type": "stream",
     "text": [
      "[[[1.  1.2 1.4]\n",
      "  [1.6 1.8 2. ]\n",
      "  [2.2 2.4 2.6]\n",
      "  [2.8 3.  3.2]\n",
      "  [3.4 3.6 3.8]]\n",
      "\n",
      " [[4.  4.2 4.4]\n",
      "  [4.6 4.8 5. ]\n",
      "  [5.2 5.4 5.6]\n",
      "  [5.8 6.  6.2]\n",
      "  [6.4 6.6 6.8]]\n",
      "\n",
      " [[7.  7.2 7.4]\n",
      "  [7.6 7.8 8. ]\n",
      "  [8.2 8.4 8.6]\n",
      "  [8.8 9.  9.2]\n",
      "  [9.4 9.6 9.8]]]\n"
     ]
    }
   ],
   "source": [
    "print(c.reshape(3,5,3))"
   ]
  },
  {
   "cell_type": "code",
   "execution_count": 27,
   "metadata": {},
   "outputs": [
    {
     "data": {
      "text/plain": [
       "array([[[ -10,  124,  128,  221,  214],\n",
       "        [  73,  156,  -51,  214,   61],\n",
       "        [ 105,  142,  109,  110, -154]],\n",
       "\n",
       "       [[  62,  178,  135,   54,   -7],\n",
       "        [  95,  175,  107, -130,  183],\n",
       "        [  56,  -97, -116,  -44,   84]],\n",
       "\n",
       "       [[ -49,   48,   -3,   49,  -40],\n",
       "        [-118,  214,   -2,  167,  -67],\n",
       "        [ -94,  111,  209, -101,  148]]])"
      ]
     },
     "execution_count": 27,
     "metadata": {},
     "output_type": "execute_result"
    }
   ],
   "source": [
    "np.random.randint(-156,236,(3,3,5))"
   ]
  },
  {
   "cell_type": "code",
   "execution_count": 28,
   "metadata": {},
   "outputs": [],
   "source": [
    "x = np.array([\n",
    "    [2,3,4],\n",
    "    [5,6,7]\n",
    "])\n",
    "\n",
    "\n",
    "y = np.array([\n",
    "    [4,8,10],\n",
    "    [8,7,9]\n",
    "    ])"
   ]
  },
  {
   "cell_type": "code",
   "execution_count": 32,
   "metadata": {},
   "outputs": [
    {
     "name": "stdout",
     "output_type": "stream",
     "text": [
      "[[ 6 11 14]\n",
      " [13 13 16]]\n",
      "[[-2 -5 -6]\n",
      " [-3 -1 -2]]\n",
      "[[ 8 24 40]\n",
      " [40 42 63]]\n",
      "[[2 3 4]\n",
      " [5 6 7]]\n",
      "[[0.5        0.375      0.4       ]\n",
      " [0.625      0.85714286 0.77777778]]\n",
      "[[ 4  6  8]\n",
      " [10 12 14]]\n",
      "[[0 1 0]\n",
      " [1 0 1]]\n"
     ]
    }
   ],
   "source": [
    "print(x+y)\n",
    "print(x-y)\n",
    "print(x*y)\n",
    "print(x%y)\n",
    "print(x/y)\n",
    "print(x*2)\n",
    "print(x%2)\n"
   ]
  },
  {
   "cell_type": "code",
   "execution_count": 36,
   "metadata": {},
   "outputs": [
    {
     "name": "stdout",
     "output_type": "stream",
     "text": [
      "[[ 72  73]\n",
      " [138 145]]\n",
      "[[ 72  73]\n",
      " [138 145]]\n",
      "[[ 72  73]\n",
      " [138 145]]\n"
     ]
    }
   ],
   "source": [
    "print(x.dot(y.T))\n",
    "print(np.matmul(x,y.T))\n",
    "print(x @ y.T)"
   ]
  },
  {
   "cell_type": "code",
   "execution_count": 38,
   "metadata": {},
   "outputs": [
    {
     "name": "stdout",
     "output_type": "stream",
     "text": [
      "27\n",
      "[ 7  9 11]\n",
      "[ 9 18]\n",
      "4.5\n",
      "1.707825127659933\n",
      "2\n",
      "7\n",
      "5\n",
      "0\n"
     ]
    }
   ],
   "source": [
    "print(x.sum())\n",
    "print(x.sum(axis=0))\n",
    "print(x.sum(axis=1))\n",
    "print(x.mean())\n",
    "print(x.std())\n",
    "print(x.min())\n",
    "print(x.max())\n",
    "print(x.argmax())\n",
    "print(x.argmin())"
   ]
  },
  {
   "cell_type": "code",
   "execution_count": 39,
   "metadata": {},
   "outputs": [
    {
     "name": "stdout",
     "output_type": "stream",
     "text": [
      "[[ 0.90929743  0.14112001 -0.7568025 ]\n",
      " [-0.95892427 -0.2794155   0.6569866 ]]\n",
      "[[-0.41614684 -0.9899925  -0.65364362]\n",
      " [ 0.28366219  0.96017029  0.75390225]]\n",
      "[[-2.18503986 -0.14254654  1.15782128]\n",
      " [-3.38051501 -0.29100619  0.87144798]]\n"
     ]
    }
   ],
   "source": [
    "print(np.sin(x))\n",
    "print(np.cos(x))\n",
    "print(np.tan(x))"
   ]
  },
  {
   "cell_type": "code",
   "execution_count": 40,
   "metadata": {},
   "outputs": [
    {
     "name": "stdout",
     "output_type": "stream",
     "text": [
      "2\n",
      "[2 3 4]\n",
      "[2 5]\n",
      "[[2 3]\n",
      " [5 6]]\n",
      "[[2 3]\n",
      " [5 6]]\n",
      "[[2 3 4]\n",
      " [5 6 7]]\n"
     ]
    }
   ],
   "source": [
    "#indexing\n",
    "print(x[0,0]) #first row first column\n",
    "print(x[0,:]) #first row all columns\n",
    "print(x[:,0])\n",
    "print(x[0:2,0:2])\n",
    "print(x[:2,:2])\n",
    "print(x[:2])"
   ]
  },
  {
   "cell_type": "code",
   "execution_count": null,
   "metadata": {},
   "outputs": [],
   "source": []
  }
 ],
 "metadata": {
  "kernelspec": {
   "display_name": "base",
   "language": "python",
   "name": "python3"
  },
  "language_info": {
   "codemirror_mode": {
    "name": "ipython",
    "version": 3
   },
   "file_extension": ".py",
   "mimetype": "text/x-python",
   "name": "python",
   "nbconvert_exporter": "python",
   "pygments_lexer": "ipython3",
   "version": "3.10.10"
  },
  "orig_nbformat": 4
 },
 "nbformat": 4,
 "nbformat_minor": 2
}
