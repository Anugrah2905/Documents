{
 "cells": [
  {
   "cell_type": "code",
   "execution_count": 2,
   "metadata": {},
   "outputs": [
    {
     "name": "stdout",
     "output_type": "stream",
     "text": [
      "invalid input\n"
     ]
    }
   ],
   "source": [
    "uname =input('enter your name')\n",
    "if uname.isalpha():\n",
    "    print('hello',uname)\n",
    "else:\n",
    "    print('invalid input')"
   ]
  },
  {
   "cell_type": "code",
   "execution_count": 2,
   "metadata": {},
   "outputs": [
    {
     "name": "stdout",
     "output_type": "stream",
     "text": [
      "hello 456\n"
     ]
    }
   ],
   "source": [
    "uname =input('enter your name')\n",
    "if uname.isalnum():\n",
    "    print('hello',uname)\n",
    "else:\n",
    "    print('inavlid input')"
   ]
  },
  {
   "cell_type": "code",
   "execution_count": 9,
   "metadata": {},
   "outputs": [
    {
     "name": "stdout",
     "output_type": "stream",
     "text": [
      "abc. txt   unknown file type\n",
      "xyz.doc    unknown file type\n",
      "par-py     unknown file type\n",
      "mno-py     unknown file type\n",
      " def.txt    text file\n"
     ]
    }
   ],
   "source": [
    "files = ['abc. txt','xyz.doc','par-py', 'mno-py', 'def.txt']\n",
    "for item in files:\n",
    "    if item.endswith('.txt'):\n",
    "         print(f' {item:10} text file')\n",
    "    elif item.endswith('.py'):\n",
    "         print(f'{item:10} python file')\n",
    "    else:\n",
    "         print(f'{item:10} unknown file type')"
   ]
  },
  {
   "cell_type": "code",
   "execution_count": 10,
   "metadata": {},
   "outputs": [
    {
     "name": "stdout",
     "output_type": "stream",
     "text": [
      "JOURNEY BEFORE DESTINATION\n",
      "journey before destination\n",
      "Journey Before Destination\n",
      "Journey before destination\n",
      "jOURNEY bEFORE dESTINATION\n",
      "journey before destination\n",
      "Journey before destination\n"
     ]
    }
   ],
   "source": [
    "name= 'Journey Before Destination' \n",
    "print (name. upper ())\n",
    "print (name. lower ())\n",
    "print (name.title())\n",
    "print (name .capitalize ())\n",
    "print (name. swapcase ())\n",
    "print (name.casefold())\n",
    "\n",
    "\n",
    "name = name.capitalize()\n",
    "print(name)"
   ]
  },
  {
   "cell_type": "code",
   "execution_count": 12,
   "metadata": {},
   "outputs": [
    {
     "name": "stdout",
     "output_type": "stream",
     "text": [
      "4\n",
      "2\n"
     ]
    }
   ],
   "source": [
    "s = 'this is an example string,this is a simple string'\n",
    "print(s.count('is'))\n",
    "print(s.count('this'))"
   ]
  },
  {
   "cell_type": "code",
   "execution_count": null,
   "metadata": {},
   "outputs": [],
   "source": [
    "\n"
   ]
  }
 ],
 "metadata": {
  "kernelspec": {
   "display_name": "base",
   "language": "python",
   "name": "python3"
  },
  "language_info": {
   "codemirror_mode": {
    "name": "ipython",
    "version": 3
   },
   "file_extension": ".py",
   "mimetype": "text/x-python",
   "name": "python",
   "nbconvert_exporter": "python",
   "pygments_lexer": "ipython3",
   "version": "3.10.10"
  },
  "orig_nbformat": 4
 },
 "nbformat": 4,
 "nbformat_minor": 2
}
